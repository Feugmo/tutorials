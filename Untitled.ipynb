{
 "cells": [
  {
   "cell_type": "markdown",
   "metadata": {
    "toc": true
   },
   "source": [
    "<h1>Table of Contents<span class=\"tocSkip\"></span></h1>\n",
    "<div class=\"toc\"><ul class=\"toc-item\"></ul></div>"
   ]
  },
  {
   "cell_type": "markdown",
   "metadata": {},
   "source": [
    "# Ising model"
   ]
  },
  {
   "cell_type": "code",
   "execution_count": 26,
   "metadata": {
    "ExecuteTime": {
     "end_time": "2021-08-20T21:02:05.584294Z",
     "start_time": "2021-08-20T21:02:05.567685Z"
    }
   },
   "outputs": [],
   "source": [
    "import random\n",
    "import torch\n",
    "import itertools\n",
    "from torch.utils.data import Dataset, DataLoader\n",
    "\n",
    "# Construct edge list for Ising model graph\n",
    "# 4x4 grid:\n",
    "size = 4\n",
    "edge_set = set()\n",
    "# Convert coordinates in a 2x2 grid to an index in a list formed by\n",
    "# concatenating rows\n",
    "def coordsToIndex(i, j):\n",
    "    return size * i + j\n",
    "\n",
    "for i, j in itertools.product(range(size), range(size)):\n",
    "    # Right\n",
    "    # Need to check if j+1 is off the grid, and equal to size is off the grid\n",
    "    # because of zero indexing\n",
    "    if j + 1 < size:\n",
    "        edge_set.add((coordsToIndex(i, j), coordsToIndex(i, j+1)))\n",
    "    # Top\n",
    "    if i > 0:\n",
    "        edge_set.add((coordsToIndex(i, j), coordsToIndex(i-1, j)))\n",
    "    # Left\n",
    "    if j > 0:\n",
    "        edge_set.add((coordsToIndex(i, j), coordsToIndex(i, j-1)))\n",
    "    # Bottom\n",
    "    if i + 1 < size:\n",
    "        edge_set.add((coordsToIndex(i, j), coordsToIndex(i+1, j)))\n",
    "\n",
    "# Tensor of edges\n",
    "edges = torch.tensor(list(edge_set), dtype = torch.int64)\n",
    "\n",
    "\n",
    "class RandomSpins(Dataset):\n",
    "    def __init__(self, nrow):\n",
    "        # Integer tensor with two columns listing the edges, used for\n",
    "        # calculating energy\n",
    "        self.edges = edges\n",
    "        # Number of nodes in the Ising model\n",
    "        self.nnode = int(size**2)\n",
    "        # Size of the virtual data set (number of distinct spin\n",
    "        # configurations). Basically arbitrary\n",
    "        self.nrow = int(nrow)\n",
    "\n",
    "    def __len__(self):\n",
    "        return self.nrow\n",
    "\n",
    "    def __getitem__(self, i):\n",
    "        if i < 0:\n",
    "            raise IndexError(\"Negative index\")\n",
    "        if i >= self.nrow:\n",
    "            raise IndexError(\"Index out of bounds of virtual dataset\")\n",
    "        random.seed(i)\n",
    "        spins = torch.tensor([random.choice([-1, 1]) for i in range(self.nnode)], dtype = torch.float64)\n",
    "        left_spins = spins[self.edges[:,0]]\n",
    "        right_spins = spins[self.edges[:,1]]\n",
    "        # Ferromagnetic case: aligned spins is low energy, multiply by -1\n",
    "        energy = - 1 * left_spins.dot(right_spins)\n",
    "        return (spins.reshape((size,size)), energy)"
   ]
  },
  {
   "cell_type": "code",
   "execution_count": 27,
   "metadata": {
    "ExecuteTime": {
     "end_time": "2021-08-20T21:02:06.203125Z",
     "start_time": "2021-08-20T21:02:06.198591Z"
    }
   },
   "outputs": [],
   "source": [
    "spin_dataset = RandomSpins(1000)\n"
   ]
  },
  {
   "cell_type": "code",
   "execution_count": 28,
   "metadata": {
    "ExecuteTime": {
     "end_time": "2021-08-20T21:02:06.831545Z",
     "start_time": "2021-08-20T21:02:06.822953Z"
    }
   },
   "outputs": [
    {
     "data": {
      "text/plain": [
       "(tensor([[ 1.,  1., -1.,  1.],\n",
       "         [ 1.,  1.,  1.,  1.],\n",
       "         [ 1., -1., -1.,  1.],\n",
       "         [-1., -1.,  1., -1.]], dtype=torch.float64),\n",
       " tensor(-0., dtype=torch.float64))"
      ]
     },
     "execution_count": 28,
     "metadata": {},
     "output_type": "execute_result"
    }
   ],
   "source": [
    "next(iter(spin_dataset))"
   ]
  },
  {
   "cell_type": "code",
   "execution_count": 29,
   "metadata": {
    "ExecuteTime": {
     "end_time": "2021-08-20T21:02:09.102666Z",
     "start_time": "2021-08-20T21:02:08.658378Z"
    }
   },
   "outputs": [],
   "source": [
    "import networkx as nx\n",
    "import numpy as np"
   ]
  },
  {
   "cell_type": "code",
   "execution_count": 30,
   "metadata": {
    "ExecuteTime": {
     "end_time": "2021-08-20T21:02:09.869683Z",
     "start_time": "2021-08-20T21:02:09.779402Z"
    }
   },
   "outputs": [],
   "source": [
    "data = next(iter(spin_dataset))\n",
    "D = nx.DiGraph(data[0].numpy()) "
   ]
  },
  {
   "cell_type": "code",
   "execution_count": 31,
   "metadata": {
    "ExecuteTime": {
     "end_time": "2021-08-20T21:02:10.714514Z",
     "start_time": "2021-08-20T21:02:10.585244Z"
    }
   },
   "outputs": [
    {
     "data": {
      "image/png": "[encoded data removed]",
      "text/plain": [
       "<Figure size 432x288 with 1 Axes>"
      ]
     },
     "metadata": {},
     "output_type": "display_data"
    }
   ],
   "source": [
    "nx.draw(D)"
   ]
  },
  {
   "cell_type": "code",
   "execution_count": null,
   "metadata": {},
   "outputs": [],
   "source": []
  }
 ],
 "metadata": {
  "kernelspec": {
   "display_name": "py38_torch_gpu",
   "language": "python",
   "name": "py38_torch_gpu"
  },
  "language_info": {
   "codemirror_mode": {
    "name": "ipython",
    "version": 3
   },
   "file_extension": ".py",
   "mimetype": "text/x-python",
   "name": "python",
   "nbconvert_exporter": "python",
   "pygments_lexer": "ipython3",
   "version": "3.8.10"
  },
  "latex_envs": {
   "LaTeX_envs_menu_present": true,
   "autoclose": false,
   "autocomplete": true,
   "bibliofile": "biblio.bib",
   "cite_by": "apalike",
   "current_citInitial": 1,
   "eqLabelWithNumbers": true,
   "eqNumInitial": 1,
   "hotkeys": {
    "equation": "Ctrl-E",
    "itemize": "Ctrl-I"
   },
   "labels_anchors": false,
   "latex_user_defs": false,
   "report_style_numbering": false,
   "user_envs_cfg": false
  },
  "toc": {
   "base_numbering": 1,
   "nav_menu": {},
   "number_sections": true,
   "sideBar": true,
   "skip_h1_title": true,
   "title_cell": "Table of Contents",
   "title_sidebar": "Contents",
   "toc_cell": true,
   "toc_position": {},
   "toc_section_display": true,
   "toc_window_display": true
  },
  "varInspector": {
   "cols": {
    "lenName": 16,
    "lenType": 16,
    "lenVar": 40
   },
   "kernels_config": {
    "python": {
     "delete_cmd_postfix": "",
     "delete_cmd_prefix": "del ",
     "library": "var_list.py",
     "varRefreshCmd": "print(var_dic_list())"
    },
    "r": {
     "delete_cmd_postfix": ") ",
     "delete_cmd_prefix": "rm(",
     "library": "var_list.r",
     "varRefreshCmd": "cat(var_dic_list()) "
    }
   },
   "types_to_exclude": [
    "module",
    "function",
    "builtin_function_or_method",
    "instance",
    "_Feature"
   ],
   "window_display": false
  }
 },
 "nbformat": 4,
 "nbformat_minor": 4
}
